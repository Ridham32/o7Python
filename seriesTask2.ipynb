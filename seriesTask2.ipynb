{
 "cells": [
  {
   "cell_type": "markdown",
   "metadata": {},
   "source": [
    "# Make a series in which the index of the series is triple of the values"
   ]
  },
  {
   "cell_type": "code",
   "execution_count": 1,
   "metadata": {},
   "outputs": [
    {
     "name": "stdout",
     "output_type": "stream",
     "text": [
      "27     3\n",
      "216    6\n",
      "343    7\n",
      "512    8\n",
      "dtype: int64\n"
     ]
    }
   ],
   "source": [
    "import pandas as pd\n",
    "a = int(input(\"Enter the range of the Series: \"))\n",
    "lst = []\n",
    "for i in range(a):\n",
    "    b = int(input(f\"Enter the num{i+1}: \"))\n",
    "    lst.append(b)\n",
    "ser1 = pd.Series(lst,index =[j*j*j for j in lst])\n",
    "print(ser1)"
   ]
  },
  {
   "cell_type": "markdown",
   "metadata": {},
   "source": [
    "# Write a Pandas program to create the mean and standard deviation of the data of a Series."
   ]
  },
  {
   "cell_type": "code",
   "execution_count": 3,
   "metadata": {},
   "outputs": [
    {
     "name": "stdout",
     "output_type": "stream",
     "text": [
      "mean is 4.8\n",
      "Standard deviation is: 2.3874672772626644\n"
     ]
    }
   ],
   "source": [
    "ser3 = pd.Series([6,5,3,8,2],index=[\"a\",\"b\",\"c\",\"d\",\"e\"])\n",
    "a=ser3.mean()\n",
    "print(\"mean is\", a)\n",
    "b = ser3.std()\n",
    "print(\"Standard deviation is:\",b)"
   ]
  },
  {
   "cell_type": "markdown",
   "metadata": {},
   "source": [
    "#WAP to create a series having indexes multiple of 10 i.e. 10, 20, 30 so on"
   ]
  },
  {
   "cell_type": "code",
   "execution_count": null,
   "metadata": {},
   "outputs": [
    {
     "name": "stdout",
     "output_type": "stream",
     "text": [
      "0     3\n",
      "10    7\n",
      "20    6\n",
      "30    5\n",
      "dtype: int64\n"
     ]
    }
   ],
   "source": [
    "a = int(input(\"Enter the range of the Series: \"))\n",
    "lst = []\n",
    "for i in range(a):\n",
    "    b = int(input(f\"Enter the num{i+1}: \"))\n",
    "    lst.append(b)\n",
    "ser4 = pd.Series(lst,index =[j*10 for j in range(len(lst))])\n",
    "print(ser4)"
   ]
  },
  {
   "cell_type": "markdown",
   "metadata": {},
   "source": [
    "# Write a Pandas program to add, subtract, multiple and divide two Pandas Series.Sample Series: [2, 4, 6, 8, 10], [1, 3, 5, 7, 9]....Result of sum of series is [3,7,11,15,19]"
   ]
  },
  {
   "cell_type": "code",
   "execution_count": 8,
   "metadata": {},
   "outputs": [
    {
     "name": "stdout",
     "output_type": "stream",
     "text": [
      "add\n",
      " [3, 7, 11, 15, 19]\n",
      "Subtract\n",
      " [1, 1, 1, 1, 1]\n",
      "multiply\n",
      " [2, 12, 30, 56, 90]\n",
      "divide\n",
      " [2.0, 1.3333333333333333, 1.2, 1.1428571428571428, 1.1111111111111112]\n"
     ]
    }
   ],
   "source": [
    "ser5 = pd.Series([2,4,6,8,10],index=[0,1,2,3,4])\n",
    "ser2 = pd.Series([1,3,5,7,9],index=[0,1,2,3,4])\n",
    "a = ser5 + ser2\n",
    "b = ser5 - ser2\n",
    "c = ser5*ser2\n",
    "d = ser5/ser2\n",
    "print(\"add\\n\",a.tolist())\n",
    "print(\"Subtract\\n\",b.tolist())\n",
    "print(\"multiply\\n\",c.tolist())\n",
    "print(\"divide\\n\",d.tolist())"
   ]
  },
  {
   "cell_type": "markdown",
   "metadata": {},
   "source": [
    "#Create a series of 100 elements, do the following\n",
    "*access elements that are even\n",
    "*access elements that are odd\n",
    "*access elements that lie between 2 to 20\n",
    "*access elements that have only 1 digit or 3 digits in them.\n",
    "*remove elements that are are less than 20 and greater     than  70\n"
   ]
  },
  {
   "cell_type": "code",
   "execution_count": 18,
   "metadata": {},
   "outputs": [
    {
     "name": "stdout",
     "output_type": "stream",
     "text": [
      "even:  1       2\n",
      "3       4\n",
      "5       6\n",
      "7       8\n",
      "9      10\n",
      "11     12\n",
      "13     14\n",
      "15     16\n",
      "17     18\n",
      "19     20\n",
      "21     22\n",
      "23     24\n",
      "25     26\n",
      "27     28\n",
      "29     30\n",
      "31     32\n",
      "33     34\n",
      "35     36\n",
      "37     38\n",
      "39     40\n",
      "41     42\n",
      "43     44\n",
      "45     46\n",
      "47     48\n",
      "49     50\n",
      "51     52\n",
      "53     54\n",
      "55     56\n",
      "57     58\n",
      "59     60\n",
      "61     62\n",
      "63     64\n",
      "65     66\n",
      "67     68\n",
      "69     70\n",
      "71     72\n",
      "73     74\n",
      "75     76\n",
      "77     78\n",
      "79     80\n",
      "81     82\n",
      "83     84\n",
      "85     86\n",
      "87     88\n",
      "89     90\n",
      "91     92\n",
      "93     94\n",
      "95     96\n",
      "97     98\n",
      "99    100\n",
      "dtype: int64\n",
      "Odd:  0      1\n",
      "2      3\n",
      "4      5\n",
      "6      7\n",
      "8      9\n",
      "10    11\n",
      "12    13\n",
      "14    15\n",
      "16    17\n",
      "18    19\n",
      "20    21\n",
      "22    23\n",
      "24    25\n",
      "26    27\n",
      "28    29\n",
      "30    31\n",
      "32    33\n",
      "34    35\n",
      "36    37\n",
      "38    39\n",
      "40    41\n",
      "42    43\n",
      "44    45\n",
      "46    47\n",
      "48    49\n",
      "50    51\n",
      "52    53\n",
      "54    55\n",
      "56    57\n",
      "58    59\n",
      "60    61\n",
      "62    63\n",
      "64    65\n",
      "66    67\n",
      "68    69\n",
      "70    71\n",
      "72    73\n",
      "74    75\n",
      "76    77\n",
      "78    79\n",
      "80    81\n",
      "82    83\n",
      "84    85\n",
      "86    87\n",
      "88    89\n",
      "90    91\n",
      "92    93\n",
      "94    95\n",
      "96    97\n",
      "98    99\n",
      "dtype: int64\n",
      "Elements between 2-20:  0     False\n",
      "1      True\n",
      "2      True\n",
      "3      True\n",
      "4      True\n",
      "      ...  \n",
      "95    False\n",
      "96    False\n",
      "97    False\n",
      "98    False\n",
      "99    False\n",
      "Length: 100, dtype: bool\n",
      "only 1digit or 3digits 0       1\n",
      "1       2\n",
      "2       3\n",
      "3       4\n",
      "4       5\n",
      "5       6\n",
      "6       7\n",
      "7       8\n",
      "8       9\n",
      "99    100\n",
      "dtype: int64\n",
      "less than 20 and greater than 70:  19    20\n",
      "20    21\n",
      "21    22\n",
      "22    23\n",
      "23    24\n",
      "24    25\n",
      "25    26\n",
      "26    27\n",
      "27    28\n",
      "28    29\n",
      "29    30\n",
      "30    31\n",
      "31    32\n",
      "32    33\n",
      "33    34\n",
      "34    35\n",
      "35    36\n",
      "36    37\n",
      "37    38\n",
      "38    39\n",
      "39    40\n",
      "40    41\n",
      "41    42\n",
      "42    43\n",
      "43    44\n",
      "44    45\n",
      "45    46\n",
      "46    47\n",
      "47    48\n",
      "48    49\n",
      "49    50\n",
      "50    51\n",
      "51    52\n",
      "52    53\n",
      "53    54\n",
      "54    55\n",
      "55    56\n",
      "56    57\n",
      "57    58\n",
      "58    59\n",
      "59    60\n",
      "60    61\n",
      "61    62\n",
      "62    63\n",
      "63    64\n",
      "64    65\n",
      "65    66\n",
      "66    67\n",
      "67    68\n",
      "68    69\n",
      "69    70\n",
      "dtype: int64\n"
     ]
    }
   ],
   "source": [
    "ser = pd.Series([i for i in range(1,101)],index=[j for j in range(100)])\n",
    "even = ser[ser%2==0]\n",
    "odd = ser[ser%2!=0]\n",
    "between_2and20 = ser.between(2,20)\n",
    "oneOrThreeDigit = ser[(ser<10)|(ser>=100)]\n",
    "filteredSeries = ser[(ser>=20) & (ser<=70)]\n",
    "print(\"even: \",even)\n",
    "print(\"Odd: \",odd)\n",
    "print(\"Elements between 2-20: \",between_2and20)\n",
    "print(\"only 1digit or 3digits\",oneOrThreeDigit)\n",
    "print(\"less than 20 and greater than 70: \",filteredSeries)"
   ]
  },
  {
   "cell_type": "code",
   "execution_count": null,
   "metadata": {},
   "outputs": [],
   "source": []
  }
 ],
 "metadata": {
  "kernelspec": {
   "display_name": "Python 3",
   "language": "python",
   "name": "python3"
  },
  "language_info": {
   "codemirror_mode": {
    "name": "ipython",
    "version": 3
   },
   "file_extension": ".py",
   "mimetype": "text/x-python",
   "name": "python",
   "nbconvert_exporter": "python",
   "pygments_lexer": "ipython3",
   "version": "3.12.4"
  }
 },
 "nbformat": 4,
 "nbformat_minor": 2
}
